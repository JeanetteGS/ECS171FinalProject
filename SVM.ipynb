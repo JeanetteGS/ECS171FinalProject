{
 "cells": [
  {
   "cell_type": "markdown",
   "id": "3f476289",
   "metadata": {},
   "source": [
    "### Data Preprocessing"
   ]
  },
  {
   "cell_type": "code",
   "execution_count": 1,
   "id": "4e9342c5",
   "metadata": {},
   "outputs": [],
   "source": [
    "import pandas as pd\n",
    "import matplotlib.pyplot as plt\n",
    "import numpy as np\n",
    "import seaborn as sns\n",
    "\n",
    "pokemon = pd.read_csv('pokemon.csv', encoding='latin1')\t# Ensures special characters are read correctly\n",
    "combat = pd.read_csv('combats.csv', encoding='latin1')\n",
    "\n",
    "# Normalize numeric values\n",
    "names = ['HP', 'Attack', 'Defense', 'Sp. Atk', 'Sp. Def', 'Speed']\n",
    "# Equivalent to using MinMaxScaler()\n",
    "for col in names:\n",
    "    pokemon[col] = (pokemon[col] - pokemon[col].min()) / (pokemon[col].max() - pokemon[col].min()) \n",
    "\n",
    "# Performs one hot encoding on the 'Type 1' column\n",
    "pokemon = pd.get_dummies(pokemon, columns=['Type 1', ], dtype=int)\n",
    "\n",
    "#Dropping Features and encoding True/False\n",
    "pokemon = pokemon.drop('Name', axis=1)\n",
    "pokemon = pokemon.drop('Type 2', axis=1) #Dropping type2 to reduce dimensionality of the data\n",
    "pokemon = pokemon.drop('Generation', axis=1)\n",
    "\n",
    "# To convert 'Legendary' column from boolean to integer type\n",
    "pokemon['Legendary'] = pokemon['Legendary'].astype(int)\n",
    "\n",
    "# Sets label\n",
    "y = combat['Winner']\n",
    "combat=combat.drop('Winner', axis=1)\n"
   ]
  },
  {
   "cell_type": "code",
   "execution_count": 2,
   "id": "d1342a23",
   "metadata": {},
   "outputs": [],
   "source": [
    "# Encode y as true or false. True if the first pokemon wins and false if the second pokemon wins.\n",
    "for i in range(len(combat)):\n",
    "    if y[i] == combat['First_pokemon'][i]:\n",
    "        y[i]=1\n",
    "    else:\n",
    "        y[i]=0"
   ]
  },
  {
   "cell_type": "code",
   "execution_count": 3,
   "id": "7b9a60ee",
   "metadata": {},
   "outputs": [
    {
     "data": {
      "text/html": [
       "<div>\n",
       "<style scoped>\n",
       "    .dataframe tbody tr th:only-of-type {\n",
       "        vertical-align: middle;\n",
       "    }\n",
       "\n",
       "    .dataframe tbody tr th {\n",
       "        vertical-align: top;\n",
       "    }\n",
       "\n",
       "    .dataframe thead th {\n",
       "        text-align: right;\n",
       "    }\n",
       "</style>\n",
       "<table border=\"1\" class=\"dataframe\">\n",
       "  <thead>\n",
       "    <tr style=\"text-align: right;\">\n",
       "      <th></th>\n",
       "      <th>HP1</th>\n",
       "      <th>Attack1</th>\n",
       "      <th>Defense1</th>\n",
       "      <th>Sp. Atk1</th>\n",
       "      <th>Sp. Def1</th>\n",
       "      <th>Speed1</th>\n",
       "      <th>Legendary1</th>\n",
       "      <th>Type 1_Bug1</th>\n",
       "      <th>Type 1_Dark1</th>\n",
       "      <th>Type 1_Dragon1</th>\n",
       "      <th>...</th>\n",
       "      <th>Type 1_Ghost2</th>\n",
       "      <th>Type 1_Grass2</th>\n",
       "      <th>Type 1_Ground2</th>\n",
       "      <th>Type 1_Ice2</th>\n",
       "      <th>Type 1_Normal2</th>\n",
       "      <th>Type 1_Poison2</th>\n",
       "      <th>Type 1_Psychic2</th>\n",
       "      <th>Type 1_Rock2</th>\n",
       "      <th>Type 1_Steel2</th>\n",
       "      <th>Type 1_Water2</th>\n",
       "    </tr>\n",
       "  </thead>\n",
       "  <tbody>\n",
       "    <tr>\n",
       "      <th>0</th>\n",
       "      <td>0.192913</td>\n",
       "      <td>0.318919</td>\n",
       "      <td>0.200000</td>\n",
       "      <td>0.190217</td>\n",
       "      <td>0.142857</td>\n",
       "      <td>0.205714</td>\n",
       "      <td>0</td>\n",
       "      <td>0</td>\n",
       "      <td>0</td>\n",
       "      <td>0</td>\n",
       "      <td>...</td>\n",
       "      <td>0</td>\n",
       "      <td>1</td>\n",
       "      <td>0</td>\n",
       "      <td>0</td>\n",
       "      <td>0</td>\n",
       "      <td>0</td>\n",
       "      <td>0</td>\n",
       "      <td>0</td>\n",
       "      <td>0</td>\n",
       "      <td>0</td>\n",
       "    </tr>\n",
       "    <tr>\n",
       "      <th>1</th>\n",
       "      <td>0.354331</td>\n",
       "      <td>0.459459</td>\n",
       "      <td>0.297778</td>\n",
       "      <td>0.434783</td>\n",
       "      <td>0.519048</td>\n",
       "      <td>0.588571</td>\n",
       "      <td>1</td>\n",
       "      <td>0</td>\n",
       "      <td>0</td>\n",
       "      <td>0</td>\n",
       "      <td>...</td>\n",
       "      <td>0</td>\n",
       "      <td>0</td>\n",
       "      <td>0</td>\n",
       "      <td>0</td>\n",
       "      <td>0</td>\n",
       "      <td>0</td>\n",
       "      <td>0</td>\n",
       "      <td>1</td>\n",
       "      <td>0</td>\n",
       "      <td>0</td>\n",
       "    </tr>\n",
       "    <tr>\n",
       "      <th>2</th>\n",
       "      <td>0.212598</td>\n",
       "      <td>0.189189</td>\n",
       "      <td>0.355556</td>\n",
       "      <td>0.380435</td>\n",
       "      <td>0.404762</td>\n",
       "      <td>0.200000</td>\n",
       "      <td>0</td>\n",
       "      <td>0</td>\n",
       "      <td>0</td>\n",
       "      <td>0</td>\n",
       "      <td>...</td>\n",
       "      <td>0</td>\n",
       "      <td>0</td>\n",
       "      <td>0</td>\n",
       "      <td>0</td>\n",
       "      <td>0</td>\n",
       "      <td>0</td>\n",
       "      <td>1</td>\n",
       "      <td>0</td>\n",
       "      <td>0</td>\n",
       "      <td>0</td>\n",
       "    </tr>\n",
       "    <tr>\n",
       "      <th>3</th>\n",
       "      <td>0.153543</td>\n",
       "      <td>0.189189</td>\n",
       "      <td>0.155556</td>\n",
       "      <td>0.326087</td>\n",
       "      <td>0.095238</td>\n",
       "      <td>0.085714</td>\n",
       "      <td>0</td>\n",
       "      <td>0</td>\n",
       "      <td>0</td>\n",
       "      <td>0</td>\n",
       "      <td>...</td>\n",
       "      <td>0</td>\n",
       "      <td>0</td>\n",
       "      <td>0</td>\n",
       "      <td>0</td>\n",
       "      <td>0</td>\n",
       "      <td>0</td>\n",
       "      <td>0</td>\n",
       "      <td>0</td>\n",
       "      <td>0</td>\n",
       "      <td>0</td>\n",
       "    </tr>\n",
       "    <tr>\n",
       "      <th>4</th>\n",
       "      <td>0.271654</td>\n",
       "      <td>0.297297</td>\n",
       "      <td>0.533333</td>\n",
       "      <td>0.570652</td>\n",
       "      <td>0.238095</td>\n",
       "      <td>0.285714</td>\n",
       "      <td>0</td>\n",
       "      <td>0</td>\n",
       "      <td>0</td>\n",
       "      <td>0</td>\n",
       "      <td>...</td>\n",
       "      <td>0</td>\n",
       "      <td>0</td>\n",
       "      <td>0</td>\n",
       "      <td>0</td>\n",
       "      <td>0</td>\n",
       "      <td>0</td>\n",
       "      <td>0</td>\n",
       "      <td>0</td>\n",
       "      <td>0</td>\n",
       "      <td>0</td>\n",
       "    </tr>\n",
       "  </tbody>\n",
       "</table>\n",
       "<p>5 rows × 50 columns</p>\n",
       "</div>"
      ],
      "text/plain": [
       "        HP1   Attack1  Defense1  Sp. Atk1  Sp. Def1    Speed1  Legendary1  \\\n",
       "0  0.192913  0.318919  0.200000  0.190217  0.142857  0.205714           0   \n",
       "1  0.354331  0.459459  0.297778  0.434783  0.519048  0.588571           1   \n",
       "2  0.212598  0.189189  0.355556  0.380435  0.404762  0.200000           0   \n",
       "3  0.153543  0.189189  0.155556  0.326087  0.095238  0.085714           0   \n",
       "4  0.271654  0.297297  0.533333  0.570652  0.238095  0.285714           0   \n",
       "\n",
       "   Type 1_Bug1  Type 1_Dark1  Type 1_Dragon1  ...  Type 1_Ghost2  \\\n",
       "0            0             0               0  ...              0   \n",
       "1            0             0               0  ...              0   \n",
       "2            0             0               0  ...              0   \n",
       "3            0             0               0  ...              0   \n",
       "4            0             0               0  ...              0   \n",
       "\n",
       "   Type 1_Grass2  Type 1_Ground2  Type 1_Ice2  Type 1_Normal2  Type 1_Poison2  \\\n",
       "0              1               0            0               0               0   \n",
       "1              0               0            0               0               0   \n",
       "2              0               0            0               0               0   \n",
       "3              0               0            0               0               0   \n",
       "4              0               0            0               0               0   \n",
       "\n",
       "   Type 1_Psychic2  Type 1_Rock2  Type 1_Steel2  Type 1_Water2  \n",
       "0                0             0              0              0  \n",
       "1                0             1              0              0  \n",
       "2                1             0              0              0  \n",
       "3                0             0              0              0  \n",
       "4                0             0              0              0  \n",
       "\n",
       "[5 rows x 50 columns]"
      ]
     },
     "execution_count": 3,
     "metadata": {},
     "output_type": "execute_result"
    }
   ],
   "source": [
    "# Merge combat data with pokemon data for First_pokemon\n",
    "cols = pokemon.drop('#', axis=1).columns\n",
    "merged1 = combat.merge(pokemon, left_on='First_pokemon', right_on='#', how='left')\n",
    "merged1 = merged1.drop(columns=['#'])\n",
    "merged1.columns = ['First_pokemon', 'Second_pokemon'] + [col + '1' for col in cols]\n",
    "\n",
    "# Merge with pokemon data for Second_pokemon\n",
    "merged2 = merged1.merge(pokemon, left_on='Second_pokemon', right_on='#', how='left')\n",
    "merged2 = merged2.drop(columns=['#', 'First_pokemon', 'Second_pokemon'])\n",
    "merged2.columns = merged1.columns.tolist()[2:] + [col + '2' for col in cols]\n",
    "\n",
    "# Final DataFrame where each row represents a single match between two Pokémon\n",
    "df = merged2\n",
    "df.head()\n"
   ]
  },
  {
   "cell_type": "markdown",
   "id": "25c1ff51",
   "metadata": {},
   "source": [
    "### Implementing a Support Vector Classifier (SVC) Model\n",
    "- Based on the Support Vector Machine (SVM) algorithm\n",
    "- Good for when you need high accuracy and can tolerate slower training\n",
    "- Finds the optimal hyperplane that best separates the classes in the feature space \n",
    "- Specifically, it finds the hyperplane that maximizes the margin between classes\n",
    "- Uses support vectors, data points closest to the decision boundary\n",
    "- Uses kernels like 'rbf', 'poly', 'sigmoid', which allow SVC to work in nonlinear spaces\n",
    "- For regularization, the C parameter controls tradeoff between margin size and classification accuracy"
   ]
  },
  {
   "cell_type": "code",
   "execution_count": 4,
   "id": "20256e9b",
   "metadata": {},
   "outputs": [
    {
     "name": "stdout",
     "output_type": "stream",
     "text": [
      "Accuracy: 0.9108\n"
     ]
    }
   ],
   "source": [
    "from sklearn.model_selection import train_test_split\n",
    "from sklearn.svm import SVC\n",
    "from sklearn.metrics import accuracy_score\n",
    "\n",
    "X_train, X_test, y_train, y_test = train_test_split(df, y, test_size=0.2, random_state=42)\n",
    "\n",
    "models = []\n",
    "model1 = SVC(kernel='linear')  # You can choose different kernels like 'linear', 'rbf', 'poly', or 'sigmoid'\n",
    "model1.fit(X_train, y_train)\n",
    "models.append(model1)\n",
    "\n",
    "y_pred = model1.predict(X_test)\n",
    "\n",
    "accuracy_scores = []\n",
    "accuracy = accuracy_score(y_test, y_pred)\n",
    "accuracy_scores.append(accuracy)\n",
    "print(f\"Accuracy: {accuracy}\")\n"
   ]
  },
  {
   "cell_type": "code",
   "execution_count": null,
   "id": "9dad2e77",
   "metadata": {},
   "outputs": [
    {
     "name": "stdout",
     "output_type": "stream",
     "text": [
      "Accuracy: 0.9128\n"
     ]
    }
   ],
   "source": [
    "from sklearn.model_selection import train_test_split\n",
    "from sklearn.svm import SVC\n",
    "from sklearn.metrics import accuracy_score\n",
    "\n",
    "X_train, X_test, y_train, y_test = train_test_split(df, y, test_size=0.2, random_state=42)\n",
    "\n",
    "model2 = SVC(kernel='rbf')\n",
    "model2.fit(X_train, y_train)\n",
    "models.append(model2)\n",
    "\n",
    "y_pred = model2.predict(X_test)\n",
    "\n",
    "accuracy = accuracy_score(y_test, y_pred)\n",
    "accuracy_scores.append(accuracy)\n",
    "print(f\"Accuracy: {accuracy}\")"
   ]
  },
  {
   "cell_type": "code",
   "execution_count": 9,
   "id": "57809d1e",
   "metadata": {},
   "outputs": [
    {
     "name": "stdout",
     "output_type": "stream",
     "text": [
      "Accuracy: 0.9074\n"
     ]
    }
   ],
   "source": [
    "from sklearn.model_selection import train_test_split\n",
    "from sklearn.svm import SVC\n",
    "from sklearn.metrics import accuracy_score\n",
    "\n",
    "X_train, X_test, y_train, y_test = train_test_split(df, y, test_size=0.2, random_state=42)\n",
    "\n",
    "model3 = SVC(kernel='poly')\n",
    "model3.fit(X_train, y_train)\n",
    "models.append(model3)\n",
    "\n",
    "y_pred = model3.predict(X_test)\n",
    "\n",
    "accuracy = accuracy_score(y_test, y_pred)\n",
    "accuracy_scores.append(accuracy)\n",
    "print(f\"Accuracy: {accuracy}\")"
   ]
  },
  {
   "cell_type": "code",
   "execution_count": 10,
   "id": "ff2060a0",
   "metadata": {},
   "outputs": [
    {
     "name": "stdout",
     "output_type": "stream",
     "text": [
      "Accuracy: 0.7494\n"
     ]
    }
   ],
   "source": [
    "from sklearn.model_selection import train_test_split\n",
    "from sklearn.svm import SVC\n",
    "from sklearn.metrics import accuracy_score\n",
    "\n",
    "X_train, X_test, y_train, y_test = train_test_split(df, y, test_size=0.2, random_state=42)\n",
    "\n",
    "model4 = SVC(kernel='sigmoid')\n",
    "model4.fit(X_train, y_train)\n",
    "models.append(model4)\n",
    "\n",
    "y_pred = model4.predict(X_test)\n",
    "\n",
    "accuracy = accuracy_score(y_test, y_pred)\n",
    "accuracy_scores.append(accuracy)\n",
    "print(f\"Accuracy: {accuracy}\")"
   ]
  },
  {
   "cell_type": "code",
   "execution_count": 16,
   "id": "93e453dc",
   "metadata": {},
   "outputs": [
    {
     "data": {
      "image/png": "[encoded data removed]",
      "text/plain": [
       "<Figure size 640x480 with 1 Axes>"
      ]
     },
     "metadata": {},
     "output_type": "display_data"
    }
   ],
   "source": [
    "kernels = ['linear', 'rbf', 'poly', 'sigmoid']\n",
    "plt.bar(kernels, accuracy_scores, color='skyblue')\n",
    "\n",
    "plt.title('Kernel Type vs. Accuracy')\n",
    "plt.xlabel('Kernel')\n",
    "plt.ylabel('Accuracy Score')\n",
    "# Annotate bars\n",
    "for i, score in enumerate(accuracy_scores):\n",
    "    plt.text(i, score, f'{score:.4f}', ha='center')\n",
    "plt.tight_layout()\n",
    "plt.show()"
   ]
  },
  {
   "cell_type": "code",
   "execution_count": 17,
   "id": "c21c8afb",
   "metadata": {},
   "outputs": [
    {
     "name": "stdout",
     "output_type": "stream",
     "text": [
      "Best Kernel Type:  rbf  Accuracy:  0.9128\n"
     ]
    }
   ],
   "source": [
    "best_index = accuracy_scores.index(max(accuracy_scores))\n",
    "best_kernel = kernels[best_index]\n",
    "best_score = accuracy_scores[best_index]\n",
    "print(\"Best Kernel Type: \", best_kernel, \" Accuracy: \", best_score)"
   ]
  },
  {
   "cell_type": "markdown",
   "id": "06b9f1e5",
   "metadata": {},
   "source": [
    "### Hyperparameter Tuning\n",
    "- Since 'sigmoid' kernel underperforms right off the bat we take it off the gridsearch in hyperparameter tuning."
   ]
  },
  {
   "cell_type": "code",
   "execution_count": null,
   "id": "90b6352c",
   "metadata": {},
   "outputs": [
    {
     "name": "stdout",
     "output_type": "stream",
     "text": [
      "Best parameters: {'C': 100, 'gamma': 'auto', 'kernel': 'rbf'}\n",
      "Best accuracy: 0.909225\n"
     ]
    }
   ],
   "source": [
    "from sklearn.model_selection import GridSearchCV\n",
    "param_grid = [\n",
    "    {'kernel': ['linear'], 'C': [0.1, 1, 10, 100]},  # No gamma, degree, coef0 here\n",
    "    {'kernel': ['rbf'], 'C': [1, 10, 100], 'gamma': [0.1, 0.01, 'scale', 'auto']},\n",
    "    {'kernel': ['poly'], 'C': [0.1, 1, 10], 'degree': [2, 3], 'gamma': ['scale', 'auto'], 'coef0': [0.0, 1.0]},\n",
    "]\n",
    "grid = GridSearchCV(SVC(), param_grid, scoring='accuracy', n_jobs = -1, refit=True, cv=5)\n",
    "grid.fit(X_train, y_train)\n",
    "\n",
    "print(\"Best parameters:\", grid.best_params_)\n",
    "print(\"Best accuracy:\", grid.best_score_)"
   ]
  },
  {
   "cell_type": "markdown",
   "id": "bf5b57c2",
   "metadata": {},
   "source": [
    "- Safe to assume 'rbf' is the best kernel. So now we tune only 'rbf' around the C = 100 value."
   ]
  },
  {
   "cell_type": "code",
   "execution_count": 27,
   "id": "2ff26453",
   "metadata": {},
   "outputs": [
    {
     "name": "stdout",
     "output_type": "stream",
     "text": [
      "Best parameters: {'C': 100, 'gamma': 'auto', 'kernel': 'rbf'}\n",
      "Best accuracy: 0.909225\n"
     ]
    }
   ],
   "source": [
    "param_grid_rbf = {\n",
    "    'kernel': ['rbf'],\n",
    "    'C': [50, 75, 100, 125, 150],\n",
    "    'gamma': [0.0001, 0.001, 0.01, 0.1, 'auto', 'scale']\n",
    "}\n",
    "grid = GridSearchCV(SVC(), param_grid, scoring='accuracy', n_jobs = -1, refit=True, cv=5)\n",
    "grid.fit(X_train, y_train)\n",
    "\n",
    "print(\"Best parameters:\", grid.best_params_)\n",
    "print(\"Best accuracy:\", grid.best_score_)"
   ]
  },
  {
   "cell_type": "markdown",
   "id": "fab6a063",
   "metadata": {},
   "source": [
    "Even though we did hyperparameter tuning, the best model is still the basic \"model2 = SVC(kernel='rbf')\" from a couple cells prior."
   ]
  },
  {
   "cell_type": "markdown",
   "id": "c1b7a9ca",
   "metadata": {},
   "source": [
    "### Best Model so Far"
   ]
  },
  {
   "cell_type": "code",
   "execution_count": null,
   "id": "bbc2e1ee",
   "metadata": {},
   "outputs": [
    {
     "name": "stdout",
     "output_type": "stream",
     "text": [
      "Accuracy: 0.9128 Weighted F1 Score:  0.9127919425258147\n"
     ]
    }
   ],
   "source": [
    "from sklearn.model_selection import train_test_split\n",
    "from sklearn.svm import SVC\n",
    "from sklearn.metrics import accuracy_score, f1_score\n",
    "\n",
    "X_train, X_test, y_train, y_test = train_test_split(df, y, test_size=0.2, random_state=42)\n",
    "\n",
    "best_model = SVC(kernel='rbf')\n",
    "best_model.fit(X_train, y_train)\n",
    "\n",
    "y_pred = best_model.predict(X_test)\n",
    "f1 = f1_score(y_test, y_pred, average='weighted')\n",
    "accuracy = accuracy_score(y_test, y_pred)\n",
    "print(f\"Accuracy: {accuracy}\", \"Weighted F1 Score: \", f1) "
   ]
  },
  {
   "cell_type": "code",
   "execution_count": 35,
   "id": "3899aabf",
   "metadata": {},
   "outputs": [
    {
     "data": {
      "text/plain": [
       "<sklearn.metrics._plot.confusion_matrix.ConfusionMatrixDisplay at 0x187eb3a3230>"
      ]
     },
     "execution_count": 35,
     "metadata": {},
     "output_type": "execute_result"
    },
    {
     "data": {
      "image/png": "[encoded data removed]",
      "text/plain": [
       "<Figure size 640x480 with 2 Axes>"
      ]
     },
     "metadata": {},
     "output_type": "display_data"
    }
   ],
   "source": [
    "from sklearn.metrics import confusion_matrix, ConfusionMatrixDisplay\n",
    "\n",
    "# Compute and plot confusion matrix\n",
    "cm = confusion_matrix(y_test, y_pred)\n",
    "disp = ConfusionMatrixDisplay(confusion_matrix=cm)\n",
    "disp.plot(cmap='Blues')"
   ]
  },
  {
   "cell_type": "code",
   "execution_count": null,
   "id": "e49cadfa",
   "metadata": {},
   "outputs": [],
   "source": []
  }
 ],
 "metadata": {
  "kernelspec": {
   "display_name": "ecs171",
   "language": "python",
   "name": "python3"
  },
  "language_info": {
   "codemirror_mode": {
    "name": "ipython",
    "version": 3
   },
   "file_extension": ".py",
   "mimetype": "text/x-python",
   "name": "python",
   "nbconvert_exporter": "python",
   "pygments_lexer": "ipython3",
   "version": "3.10.13"
  }
 },
 "nbformat": 4,
 "nbformat_minor": 5
}
