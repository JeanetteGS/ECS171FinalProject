{
  "cells": [
    {
      "cell_type": "code",
      "execution_count": 2,
      "metadata": {
        "colab": {
          "base_uri": "https://localhost:8080/"
        },
        "id": "xbAMg2vnu-eX",
        "outputId": "0f045243-2787-45ef-eabf-904d59655851"
      },
      "outputs": [
        {
          "ename": "ModuleNotFoundError",
          "evalue": "No module named 'kagglehub'",
          "output_type": "error",
          "traceback": [
            "\u001b[1;31m---------------------------------------------------------------------------\u001b[0m",
            "\u001b[1;31mModuleNotFoundError\u001b[0m                       Traceback (most recent call last)",
            "Cell \u001b[1;32mIn[2], line 1\u001b[0m\n\u001b[1;32m----> 1\u001b[0m \u001b[38;5;28;01mimport\u001b[39;00m\u001b[38;5;250m \u001b[39m\u001b[38;5;21;01mkagglehub\u001b[39;00m\n\u001b[0;32m      3\u001b[0m \u001b[38;5;66;03m# Download latest version\u001b[39;00m\n\u001b[0;32m      4\u001b[0m path \u001b[38;5;241m=\u001b[39m kagglehub\u001b[38;5;241m.\u001b[39mdataset_download(\u001b[38;5;124m\"\u001b[39m\u001b[38;5;124mtuannguyenvananh/pokemon-dataset-with-team-combat\u001b[39m\u001b[38;5;124m\"\u001b[39m)\n",
            "\u001b[1;31mModuleNotFoundError\u001b[0m: No module named 'kagglehub'"
          ]
        }
      ],
      "source": [
        "import kagglehub\n",
        "\n",
        "# Download latest version\n",
        "path = kagglehub.dataset_download(\"tuannguyenvananh/pokemon-dataset-with-team-combat\")\n",
        "\n",
        "print(\"Path to dataset files:\", path)"
      ]
    },
    {
      "cell_type": "code",
      "execution_count": 1,
      "metadata": {
        "id": "2erHdXCSvCRs"
      },
      "outputs": [],
      "source": [
        "import pandas as pd\n",
        "import matplotlib.pyplot as plt\n",
        "import numpy as np\n",
        "import seaborn as sns\n",
        "\n",
        "pokemon = pd.read_csv('pokemon.csv', encoding='latin1')\n",
        "combat = pd.read_csv('combats.csv', encoding='latin1')\n",
        "\n",
        "#Normalize numeric values\n",
        "names = ['HP', 'Attack', 'Defense', 'Sp. Atk', 'Sp. Def', 'Speed']\n",
        "for col in names:\n",
        "    pokemon[col] = (pokemon[col] - pokemon[col].min()) / (pokemon[col].max() - pokemon[col].min())\n",
        "\n",
        "pokemon = pd.get_dummies(pokemon, columns=['Type 1', ], dtype=int)\n",
        "pokemon = pd.get_dummies(pokemon, columns=['Type 2', ], dtype=int)\n",
        "\n",
        "#Dropping Features and encoding True/False\n",
        "pokemon = pokemon.drop('Name', axis=1)\n",
        "# pokemon = pokemon.drop('Type 2', axis=1) #Dropping type2 to reduce dimensionality of the data\n",
        "pokemon = pokemon.drop('Generation', axis=1)\n",
        "pokemon['Legendary'] = pokemon['Legendary'].astype(int)\n",
        "y = combat['Winner']\n",
        "combat=combat.drop('Winner', axis=1)"
      ]
    },
    {
      "cell_type": "code",
      "execution_count": 2,
      "metadata": {
        "id": "Vnr7UPkzvEHY"
      },
      "outputs": [],
      "source": [
        "# Encode y as true or false. True if the first pokemon wins and false if the second pokemon wins.\n",
        "for i in range(len(combat)):\n",
        "    if y[i] == combat['First_pokemon'][i]:\n",
        "        y[i]=1\n",
        "    else:\n",
        "        y[i]=0"
      ]
    },
    {
      "cell_type": "code",
      "execution_count": 3,
      "metadata": {
        "id": "qENVMLIVvFd2"
      },
      "outputs": [],
      "source": [
        "cols = pokemon.drop('#', axis=1).columns\n",
        "merged1 = combat.merge(pokemon, left_on='First_pokemon', right_on='#', how='left')\n",
        "merged1 = merged1.drop(columns=['#'])\n",
        "merged1.columns = ['First_pokemon', 'Second_pokemon'] + [col + '1' for col in cols]\n",
        "\n",
        "# Step 3: Merge with pokemon data for Second_pokemon\n",
        "merged2 = merged1.merge(pokemon, left_on='Second_pokemon', right_on='#', how='left')\n",
        "merged2 = merged2.drop(columns=['#', 'First_pokemon', 'Second_pokemon'])\n",
        "merged2.columns = merged1.columns.tolist()[2:] + [col + '2' for col in cols]\n",
        "\n",
        "# Final DataFrame\n",
        "df = merged2\n",
        "# df.head()"
      ]
    },
    {
      "cell_type": "code",
      "execution_count": 4,
      "metadata": {
        "id": "ig4bwbofvG3g"
      },
      "outputs": [],
      "source": [
        "from sklearn.neural_network import MLPClassifier\n",
        "from sklearn.model_selection import train_test_split\n",
        "\n",
        "X_train, X_test, y_train, y_test = train_test_split(df, y, test_size=0.2, random_state=42)"
      ]
    },
    {
      "cell_type": "code",
      "execution_count": 10,
      "metadata": {
        "colab": {
          "base_uri": "https://localhost:8080/"
        },
        "id": "suNxPGnOvQnu",
        "outputId": "d2229e0e-6fed-4e84-ccb2-1c7acb984a24"
      },
      "outputs": [
        {
          "name": "stderr",
          "output_type": "stream",
          "text": [
            "/usr/local/lib/python3.11/dist-packages/sklearn/neural_network/_multilayer_perceptron.py:691: ConvergenceWarning: Stochastic Optimizer: Maximum iterations (200) reached and the optimization hasn't converged yet.\n",
            "  warnings.warn(\n"
          ]
        },
        {
          "name": "stdout",
          "output_type": "stream",
          "text": [
            "Initial accuracy using 'sgd': 0.9269\n",
            "Initial accuracy using 'adam': 0.9541\n"
          ]
        }
      ],
      "source": [
        "model = MLPClassifier(random_state=42, solver='sgd',learning_rate_init=0.005)\n",
        "model.fit(X_train, y_train)\n",
        "\n",
        "model.predict(X_test)\n",
        "\n",
        "model1_accuracy = model.score(X_test, y_test)\n",
        "print(f\"Initial accuracy using 'sgd': {model1_accuracy}\")\n",
        "\n",
        "model2 = MLPClassifier(random_state=42, solver='adam',learning_rate_init=0.005)\n",
        "model2.fit(X_train, y_train)\n",
        "\n",
        "model2.predict(X_test)\n",
        "\n",
        "model2_accuracy = model2.score(X_test, y_test)\n",
        "print(f\"Initial accuracy using 'adam': {model2_accuracy}\")"
      ]
    },
    {
      "cell_type": "markdown",
      "metadata": {
        "id": "j_shJg4XvW1j"
      },
      "source": [
        "For large datasets, the \"solver\" used could either be 'sgd' (Stochastic Gradient Descent) or 'adam' (a Stochastic Gradient-based optimizer proposed by Kingma, Diederik, and Jimmy Ba). 'adam' seems to both converge faster and achieve higher accuracy, so we will use 'adam' for hyperparameter tuning.\n",
        "\n",
        "This matches sklearn's recommendations for model tuning: https://scikit-learn.org/stable/auto_examples/neural_networks/plot_mlp_training_curves.html#sphx-glr-auto-examples-neural-networks-plot-mlp-training-curves-py"
      ]
    },
    {
      "cell_type": "code",
      "execution_count": 6,
      "metadata": {
        "colab": {
          "base_uri": "https://localhost:8080/"
        },
        "id": "huccsYJ4vXYf",
        "outputId": "1fcd083d-fc87-4036-d15c-5101e6a194f3"
      },
      "outputs": [
        {
          "name": "stdout",
          "output_type": "stream",
          "text": [
            "Fitting 2 folds for each of 18 candidates, totalling 36 fits\n"
          ]
        },
        {
          "name": "stderr",
          "output_type": "stream",
          "text": [
            "/usr/local/lib/python3.11/dist-packages/sklearn/neural_network/_multilayer_perceptron.py:691: ConvergenceWarning: Stochastic Optimizer: Maximum iterations (200) reached and the optimization hasn't converged yet.\n",
            "  warnings.warn(\n"
          ]
        },
        {
          "name": "stdout",
          "output_type": "stream",
          "text": [
            "[CV 1/2] END activation=relu, hidden_layer_sizes=(50,), max_iter=200;, score=0.935 total time=  21.3s\n",
            "[CV 2/2] END activation=relu, hidden_layer_sizes=(50,), max_iter=200;, score=0.927 total time=  11.1s\n",
            "[CV 1/2] END activation=relu, hidden_layer_sizes=(50,), max_iter=400;, score=0.935 total time=  12.5s\n",
            "[CV 2/2] END activation=relu, hidden_layer_sizes=(50,), max_iter=400;, score=0.926 total time=  13.6s\n",
            "[CV 1/2] END activation=relu, hidden_layer_sizes=(100,), max_iter=200;, score=0.930 total time=  24.0s\n"
          ]
        },
        {
          "name": "stderr",
          "output_type": "stream",
          "text": [
            "/usr/local/lib/python3.11/dist-packages/sklearn/neural_network/_multilayer_perceptron.py:691: ConvergenceWarning: Stochastic Optimizer: Maximum iterations (200) reached and the optimization hasn't converged yet.\n",
            "  warnings.warn(\n"
          ]
        },
        {
          "name": "stdout",
          "output_type": "stream",
          "text": [
            "[CV 2/2] END activation=relu, hidden_layer_sizes=(100,), max_iter=200;, score=0.930 total time=  32.0s\n",
            "[CV 1/2] END activation=relu, hidden_layer_sizes=(100,), max_iter=400;, score=0.927 total time=  24.3s\n",
            "[CV 2/2] END activation=relu, hidden_layer_sizes=(100,), max_iter=400;, score=0.926 total time=  23.5s\n",
            "[CV 1/2] END activation=relu, hidden_layer_sizes=(150,), max_iter=200;, score=0.929 total time=  29.2s\n",
            "[CV 2/2] END activation=relu, hidden_layer_sizes=(150,), max_iter=200;, score=0.927 total time=  25.0s\n",
            "[CV 1/2] END activation=relu, hidden_layer_sizes=(150,), max_iter=400;, score=0.929 total time=  33.6s\n",
            "[CV 2/2] END activation=relu, hidden_layer_sizes=(150,), max_iter=400;, score=0.920 total time=  25.1s\n"
          ]
        },
        {
          "name": "stderr",
          "output_type": "stream",
          "text": [
            "/usr/local/lib/python3.11/dist-packages/sklearn/neural_network/_multilayer_perceptron.py:691: ConvergenceWarning: Stochastic Optimizer: Maximum iterations (200) reached and the optimization hasn't converged yet.\n",
            "  warnings.warn(\n"
          ]
        },
        {
          "name": "stdout",
          "output_type": "stream",
          "text": [
            "[CV 1/2] END activation=logistic, hidden_layer_sizes=(50,), max_iter=200;, score=0.935 total time=  14.8s\n"
          ]
        },
        {
          "name": "stderr",
          "output_type": "stream",
          "text": [
            "/usr/local/lib/python3.11/dist-packages/sklearn/neural_network/_multilayer_perceptron.py:691: ConvergenceWarning: Stochastic Optimizer: Maximum iterations (200) reached and the optimization hasn't converged yet.\n",
            "  warnings.warn(\n"
          ]
        },
        {
          "name": "stdout",
          "output_type": "stream",
          "text": [
            "[CV 2/2] END activation=logistic, hidden_layer_sizes=(50,), max_iter=200;, score=0.934 total time=  14.6s\n"
          ]
        },
        {
          "name": "stderr",
          "output_type": "stream",
          "text": [
            "/usr/local/lib/python3.11/dist-packages/sklearn/neural_network/_multilayer_perceptron.py:691: ConvergenceWarning: Stochastic Optimizer: Maximum iterations (400) reached and the optimization hasn't converged yet.\n",
            "  warnings.warn(\n"
          ]
        },
        {
          "name": "stdout",
          "output_type": "stream",
          "text": [
            "[CV 1/2] END activation=logistic, hidden_layer_sizes=(50,), max_iter=400;, score=0.934 total time=  28.7s\n"
          ]
        },
        {
          "name": "stderr",
          "output_type": "stream",
          "text": [
            "/usr/local/lib/python3.11/dist-packages/sklearn/neural_network/_multilayer_perceptron.py:691: ConvergenceWarning: Stochastic Optimizer: Maximum iterations (400) reached and the optimization hasn't converged yet.\n",
            "  warnings.warn(\n"
          ]
        },
        {
          "name": "stdout",
          "output_type": "stream",
          "text": [
            "[CV 2/2] END activation=logistic, hidden_layer_sizes=(50,), max_iter=400;, score=0.929 total time=  30.2s\n"
          ]
        },
        {
          "name": "stderr",
          "output_type": "stream",
          "text": [
            "/usr/local/lib/python3.11/dist-packages/sklearn/neural_network/_multilayer_perceptron.py:691: ConvergenceWarning: Stochastic Optimizer: Maximum iterations (200) reached and the optimization hasn't converged yet.\n",
            "  warnings.warn(\n"
          ]
        },
        {
          "name": "stdout",
          "output_type": "stream",
          "text": [
            "[CV 1/2] END activation=logistic, hidden_layer_sizes=(100,), max_iter=200;, score=0.933 total time=  36.0s\n"
          ]
        },
        {
          "name": "stderr",
          "output_type": "stream",
          "text": [
            "/usr/local/lib/python3.11/dist-packages/sklearn/neural_network/_multilayer_perceptron.py:691: ConvergenceWarning: Stochastic Optimizer: Maximum iterations (200) reached and the optimization hasn't converged yet.\n",
            "  warnings.warn(\n"
          ]
        },
        {
          "name": "stdout",
          "output_type": "stream",
          "text": [
            "[CV 2/2] END activation=logistic, hidden_layer_sizes=(100,), max_iter=200;, score=0.933 total time=  37.2s\n",
            "[CV 1/2] END activation=logistic, hidden_layer_sizes=(100,), max_iter=400;, score=0.934 total time= 1.1min\n",
            "[CV 2/2] END activation=logistic, hidden_layer_sizes=(100,), max_iter=400;, score=0.930 total time= 1.0min\n"
          ]
        },
        {
          "name": "stderr",
          "output_type": "stream",
          "text": [
            "/usr/local/lib/python3.11/dist-packages/sklearn/neural_network/_multilayer_perceptron.py:691: ConvergenceWarning: Stochastic Optimizer: Maximum iterations (200) reached and the optimization hasn't converged yet.\n",
            "  warnings.warn(\n"
          ]
        },
        {
          "name": "stdout",
          "output_type": "stream",
          "text": [
            "[CV 1/2] END activation=logistic, hidden_layer_sizes=(150,), max_iter=200;, score=0.930 total time=  47.1s\n"
          ]
        },
        {
          "name": "stderr",
          "output_type": "stream",
          "text": [
            "/usr/local/lib/python3.11/dist-packages/sklearn/neural_network/_multilayer_perceptron.py:691: ConvergenceWarning: Stochastic Optimizer: Maximum iterations (200) reached and the optimization hasn't converged yet.\n",
            "  warnings.warn(\n"
          ]
        },
        {
          "name": "stdout",
          "output_type": "stream",
          "text": [
            "[CV 2/2] END activation=logistic, hidden_layer_sizes=(150,), max_iter=200;, score=0.935 total time=  45.5s\n",
            "[CV 1/2] END activation=logistic, hidden_layer_sizes=(150,), max_iter=400;, score=0.933 total time= 1.4min\n",
            "[CV 2/2] END activation=logistic, hidden_layer_sizes=(150,), max_iter=400;, score=0.932 total time= 1.3min\n"
          ]
        },
        {
          "name": "stderr",
          "output_type": "stream",
          "text": [
            "/usr/local/lib/python3.11/dist-packages/sklearn/neural_network/_multilayer_perceptron.py:691: ConvergenceWarning: Stochastic Optimizer: Maximum iterations (200) reached and the optimization hasn't converged yet.\n",
            "  warnings.warn(\n"
          ]
        },
        {
          "name": "stdout",
          "output_type": "stream",
          "text": [
            "[CV 1/2] END activation=tanh, hidden_layer_sizes=(50,), max_iter=200;, score=0.928 total time=  13.2s\n"
          ]
        },
        {
          "name": "stderr",
          "output_type": "stream",
          "text": [
            "/usr/local/lib/python3.11/dist-packages/sklearn/neural_network/_multilayer_perceptron.py:691: ConvergenceWarning: Stochastic Optimizer: Maximum iterations (200) reached and the optimization hasn't converged yet.\n",
            "  warnings.warn(\n"
          ]
        },
        {
          "name": "stdout",
          "output_type": "stream",
          "text": [
            "[CV 2/2] END activation=tanh, hidden_layer_sizes=(50,), max_iter=200;, score=0.930 total time=  12.8s\n",
            "[CV 1/2] END activation=tanh, hidden_layer_sizes=(50,), max_iter=400;, score=0.927 total time=  16.2s\n",
            "[CV 2/2] END activation=tanh, hidden_layer_sizes=(50,), max_iter=400;, score=0.928 total time=  20.5s\n"
          ]
        },
        {
          "name": "stderr",
          "output_type": "stream",
          "text": [
            "/usr/local/lib/python3.11/dist-packages/sklearn/neural_network/_multilayer_perceptron.py:691: ConvergenceWarning: Stochastic Optimizer: Maximum iterations (200) reached and the optimization hasn't converged yet.\n",
            "  warnings.warn(\n"
          ]
        },
        {
          "name": "stdout",
          "output_type": "stream",
          "text": [
            "[CV 1/2] END activation=tanh, hidden_layer_sizes=(100,), max_iter=200;, score=0.929 total time=  26.6s\n"
          ]
        },
        {
          "name": "stderr",
          "output_type": "stream",
          "text": [
            "/usr/local/lib/python3.11/dist-packages/sklearn/neural_network/_multilayer_perceptron.py:691: ConvergenceWarning: Stochastic Optimizer: Maximum iterations (200) reached and the optimization hasn't converged yet.\n",
            "  warnings.warn(\n"
          ]
        },
        {
          "name": "stdout",
          "output_type": "stream",
          "text": [
            "[CV 2/2] END activation=tanh, hidden_layer_sizes=(100,), max_iter=200;, score=0.929 total time=  27.2s\n",
            "[CV 1/2] END activation=tanh, hidden_layer_sizes=(100,), max_iter=400;, score=0.933 total time=  32.0s\n",
            "[CV 2/2] END activation=tanh, hidden_layer_sizes=(100,), max_iter=400;, score=0.926 total time=  27.8s\n"
          ]
        },
        {
          "name": "stderr",
          "output_type": "stream",
          "text": [
            "/usr/local/lib/python3.11/dist-packages/sklearn/neural_network/_multilayer_perceptron.py:691: ConvergenceWarning: Stochastic Optimizer: Maximum iterations (200) reached and the optimization hasn't converged yet.\n",
            "  warnings.warn(\n"
          ]
        },
        {
          "name": "stdout",
          "output_type": "stream",
          "text": [
            "[CV 1/2] END activation=tanh, hidden_layer_sizes=(150,), max_iter=200;, score=0.929 total time=  32.7s\n"
          ]
        },
        {
          "name": "stderr",
          "output_type": "stream",
          "text": [
            "/usr/local/lib/python3.11/dist-packages/sklearn/neural_network/_multilayer_perceptron.py:691: ConvergenceWarning: Stochastic Optimizer: Maximum iterations (200) reached and the optimization hasn't converged yet.\n",
            "  warnings.warn(\n"
          ]
        },
        {
          "name": "stdout",
          "output_type": "stream",
          "text": [
            "[CV 2/2] END activation=tanh, hidden_layer_sizes=(150,), max_iter=200;, score=0.933 total time=  34.4s\n",
            "[CV 1/2] END activation=tanh, hidden_layer_sizes=(150,), max_iter=400;, score=0.932 total time=  42.6s\n",
            "[CV 2/2] END activation=tanh, hidden_layer_sizes=(150,), max_iter=400;, score=0.928 total time=  36.1s\n",
            "Best: 0.934725 using {'activation': 'logistic', 'hidden_layer_sizes': (50,), 'max_iter': 200}\n",
            "0.930750 (0.004100) with: {'activation': 'relu', 'hidden_layer_sizes': (50,), 'max_iter': 200}\n",
            "0.930725 (0.004625) with: {'activation': 'relu', 'hidden_layer_sizes': (50,), 'max_iter': 400}\n",
            "0.930075 (0.000425) with: {'activation': 'relu', 'hidden_layer_sizes': (100,), 'max_iter': 200}\n",
            "0.926525 (0.000625) with: {'activation': 'relu', 'hidden_layer_sizes': (100,), 'max_iter': 400}\n",
            "0.928425 (0.000925) with: {'activation': 'relu', 'hidden_layer_sizes': (150,), 'max_iter': 200}\n",
            "0.924400 (0.004450) with: {'activation': 'relu', 'hidden_layer_sizes': (150,), 'max_iter': 400}\n",
            "0.934725 (0.000625) with: {'activation': 'logistic', 'hidden_layer_sizes': (50,), 'max_iter': 200}\n",
            "0.931525 (0.002325) with: {'activation': 'logistic', 'hidden_layer_sizes': (50,), 'max_iter': 400}\n",
            "0.933200 (0.000000) with: {'activation': 'logistic', 'hidden_layer_sizes': (100,), 'max_iter': 200}\n",
            "0.932100 (0.002200) with: {'activation': 'logistic', 'hidden_layer_sizes': (100,), 'max_iter': 400}\n",
            "0.932625 (0.002875) with: {'activation': 'logistic', 'hidden_layer_sizes': (150,), 'max_iter': 200}\n",
            "0.932550 (0.000600) with: {'activation': 'logistic', 'hidden_layer_sizes': (150,), 'max_iter': 400}\n",
            "0.928950 (0.001200) with: {'activation': 'tanh', 'hidden_layer_sizes': (50,), 'max_iter': 200}\n",
            "0.927625 (0.000175) with: {'activation': 'tanh', 'hidden_layer_sizes': (50,), 'max_iter': 400}\n",
            "0.929200 (0.000200) with: {'activation': 'tanh', 'hidden_layer_sizes': (100,), 'max_iter': 200}\n",
            "0.929500 (0.003250) with: {'activation': 'tanh', 'hidden_layer_sizes': (100,), 'max_iter': 400}\n",
            "0.931075 (0.001625) with: {'activation': 'tanh', 'hidden_layer_sizes': (150,), 'max_iter': 200}\n",
            "0.930250 (0.001750) with: {'activation': 'tanh', 'hidden_layer_sizes': (150,), 'max_iter': 400}\n"
          ]
        },
        {
          "name": "stderr",
          "output_type": "stream",
          "text": [
            "/usr/local/lib/python3.11/dist-packages/sklearn/neural_network/_multilayer_perceptron.py:691: ConvergenceWarning: Stochastic Optimizer: Maximum iterations (200) reached and the optimization hasn't converged yet.\n",
            "  warnings.warn(\n"
          ]
        }
      ],
      "source": [
        "from sklearn.model_selection import GridSearchCV\n",
        "param_grid = {\n",
        "    'hidden_layer_sizes': [(50,), (100,), (150,)],\n",
        "    'activation': ['relu', 'logistic', 'tanh'],\n",
        "    'max_iter': [200, 400]\n",
        "}\n",
        "\n",
        "# perform grid search with cross-validation\n",
        "grid_search = GridSearchCV(MLPClassifier(solver='adam', learning_rate_init=0.005), param_grid, cv=2, verbose=3)\n",
        "grid_result = grid_search.fit(X_train, y_train)\n",
        "\n",
        "# print results\n",
        "print(\"Best: %f using %s\" % (grid_result.best_score_, grid_result.best_params_))\n",
        "means = grid_result.cv_results_['mean_test_score']\n",
        "stds = grid_result.cv_results_['std_test_score']\n",
        "params = grid_result.cv_results_['params']\n",
        "for mean, std, param in zip(means, stds, params):\n",
        "    print(\"%f (%f) with: %r\" % (mean, std, param))"
      ]
    },
    {
      "cell_type": "markdown",
      "metadata": {
        "id": "B-m3o12I9B3v"
      },
      "source": [
        "The best model ended up using the 'logistic' activation function, with 1 hidden layer, 50 neurons, and a max iteration of 200. However, it is concerning that the accuracy score of 0.934725 is actually lower than the 0.9541 score from the initial model.\n",
        "\n",
        "However, since these models were under k-fold cross validation of '2', it would make sense to re-evaluate the logistic function again and compare it to the initial model."
      ]
    },
    {
      "cell_type": "code",
      "execution_count": 6,
      "metadata": {
        "colab": {
          "base_uri": "https://localhost:8080/"
        },
        "id": "7uODc9gE4u_-",
        "outputId": "b4c754a7-66bd-406c-f7fb-b098e674a174"
      },
      "outputs": [
        {
          "name": "stdout",
          "output_type": "stream",
          "text": [
            "Accuracy of initial model: 0.9541\n",
            "Accuracy of best model via hyperparameter tuning: 0.9502\n"
          ]
        },
        {
          "name": "stderr",
          "output_type": "stream",
          "text": [
            "c:\\Users\\jsimo\\miniconda3\\envs\\ecs171_finalproject\\Lib\\site-packages\\sklearn\\neural_network\\_multilayer_perceptron.py:691: ConvergenceWarning: Stochastic Optimizer: Maximum iterations (200) reached and the optimization hasn't converged yet.\n",
            "  warnings.warn(\n"
          ]
        }
      ],
      "source": [
        "model1 = MLPClassifier(random_state=42, solver='adam',learning_rate_init=0.005)\n",
        "model1.fit(X_train, y_train)\n",
        "\n",
        "model1.predict(X_test)\n",
        "\n",
        "model1_accuracy = model1.score(X_test, y_test)\n",
        "print(f\"Accuracy of initial model: {model1_accuracy}\")\n",
        "\n",
        "model2 = MLPClassifier(random_state=42, solver='adam', activation='logistic', learning_rate_init=0.005, hidden_layer_sizes=(50,))\n",
        "model2.fit(X_train, y_train)\n",
        "\n",
        "model2.predict(X_test)\n",
        "\n",
        "model2_accuracy = model2.score(X_test, y_test)\n",
        "print(f\"Accuracy of best model via hyperparameter tuning: {model2_accuracy}\")"
      ]
    },
    {
      "cell_type": "code",
      "execution_count": 8,
      "metadata": {
        "colab": {
          "base_uri": "https://localhost:8080/"
        },
        "id": "o7GRC5SW6ZmH",
        "outputId": "d1b242f9-3c87-4f38-b63c-2e3a7b25126e"
      },
      "outputs": [],
      "source": [
        "best_model = model1"
      ]
    },
    {
      "cell_type": "code",
      "execution_count": 9,
      "metadata": {
        "colab": {
          "base_uri": "https://localhost:8080/",
          "height": 505
        },
        "id": "FJ6lZxcVs8oR",
        "outputId": "d3a40829-8a16-4602-85cf-ad6eb403014b"
      },
      "outputs": [
        {
          "name": "stdout",
          "output_type": "stream",
          "text": [
            "Best Model's Accuracy score: 0.9541\n",
            "Best Model's F1 score: 0.9514234310509049\n"
          ]
        },
        {
          "data": {
            "text/plain": [
              "<sklearn.metrics._plot.confusion_matrix.ConfusionMatrixDisplay at 0x2c73c843770>"
            ]
          },
          "execution_count": 9,
          "metadata": {},
          "output_type": "execute_result"
        },
        {
          "data": {
            "image/png": "[encoded data removed]",
            "text/plain": [
              "<Figure size 640x480 with 2 Axes>"
            ]
          },
          "metadata": {},
          "output_type": "display_data"
        }
      ],
      "source": [
        "from sklearn.metrics import accuracy_score, f1_score, confusion_matrix, ConfusionMatrixDisplay\n",
        "\n",
        "best_model_pred = best_model.predict(X_test)\n",
        "\n",
        "print(f\"Best Model's Accuracy score: {accuracy_score(y_test, best_model_pred)}\")\n",
        "print(f\"Best Model's F1 score: {f1_score(y_test, best_model_pred)}\")\n",
        "\n",
        "matrix = ConfusionMatrixDisplay(confusion_matrix=confusion_matrix(y_test, best_model_pred))\n",
        "matrix.plot(cmap='Greens')"
      ]
    },
    {
      "cell_type": "markdown",
      "metadata": {
        "id": "-kzpwDOX8B3Q"
      },
      "source": [
        "This evaluates the classifier model on classifier-type evaluation metrics, such as accuracy, F1 scores, and a confusion matrix."
      ]
    },
    {
      "cell_type": "code",
      "execution_count": 10,
      "metadata": {},
      "outputs": [
        {
          "data": {
            "text/plain": [
              "['mlp_best_model.joblib']"
            ]
          },
          "execution_count": 10,
          "metadata": {},
          "output_type": "execute_result"
        }
      ],
      "source": [
        "import joblib\n",
        "from sklearn.metrics import classification_report\n",
        "model_file_name = \"mlp_best_model.joblib\"\n",
        "\n",
        "# Eval metrics to save\n",
        "model_acc = accuracy_score(y_test, best_model_pred)\n",
        "cm = confusion_matrix(y_test, best_model_pred)\n",
        "model_report = classification_report(y_test, best_model_pred, output_dict=True)\n",
        "\n",
        "model_results = {\n",
        "    'model': best_model,\n",
        "    'accuracy': model_acc,\n",
        "    'classification_report': model_report,\n",
        "    'confusion_matrix': cm\n",
        "}\n",
        "\n",
        "joblib.dump(model_results, model_file_name)"
      ]
    },
    {
      "cell_type": "markdown",
      "metadata": {},
      "source": [
        "This allows us to save attributes of the best model and use them for our demo app."
      ]
    }
  ],
  "metadata": {
    "colab": {
      "provenance": []
    },
    "kernelspec": {
      "display_name": "ecs171_finalproject",
      "language": "python",
      "name": "python3"
    },
    "language_info": {
      "codemirror_mode": {
        "name": "ipython",
        "version": 3
      },
      "file_extension": ".py",
      "mimetype": "text/x-python",
      "name": "python",
      "nbconvert_exporter": "python",
      "pygments_lexer": "ipython3",
      "version": "3.13.2"
    }
  },
  "nbformat": 4,
  "nbformat_minor": 0
}
