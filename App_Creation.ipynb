{
 "cells": [
  {
   "cell_type": "code",
   "execution_count": 22,
   "id": "18909453",
   "metadata": {},
   "outputs": [
    {
     "name": "stdout",
     "output_type": "stream",
     "text": [
      "The winner is Charmander\n"
     ]
    },
    {
     "name": "stderr",
     "output_type": "stream",
     "text": [
      "c:\\Users\\moule\\miniconda3\\envs\\ecs171\\lib\\site-packages\\sklearn\\utils\\validation.py:2739: UserWarning: X does not have valid feature names, but SVC was fitted with feature names\n",
      "  warnings.warn(\n"
     ]
    }
   ],
   "source": [
    "def make_prediction(poke1, poke2):\n",
    "    try:\n",
    "        import joblib\n",
    "        import pandas as pd\n",
    "        import numpy as np\n",
    "        model_file_name = \"svm_best_model.joblib\"\n",
    "\n",
    "        loaded_model = joblib.load(open(model_file_name, 'rb'))\n",
    "\n",
    "        pokemon_data = pd.read_csv('pokemon.csv', encoding='latin1')\t# Ensures special characters are read correctly\n",
    "        # Normalize numeric values\n",
    "        names = ['HP', 'Attack', 'Defense', 'Sp. Atk', 'Sp. Def', 'Speed']\n",
    "        # Equivalent to using MinMaxScaler()\n",
    "        for col in names:\n",
    "            pokemon_data[col] = (pokemon_data[col] - pokemon_data[col].min()) / (pokemon_data[col].max() - pokemon_data[col].min()) \n",
    "\n",
    "        # Performs one hot encoding on the 'Type 1' column\n",
    "        pokemon_data = pd.get_dummies(pokemon_data, columns=['Type 1', ], dtype=int)\n",
    "\n",
    "        #Dropping Features and encoding True/False\n",
    "        pokemon_data = pokemon_data.drop('Type 2', axis=1) #Dropping type2 to reduce dimensionality of the data\n",
    "        pokemon_data = pokemon_data.drop('Generation', axis=1)\n",
    "        pokemon_data = pokemon_data.drop('#', axis=1)\n",
    "\n",
    "        # To convert 'Legendary' column from boolean to integer type\n",
    "        pokemon_data['Legendary'] = pokemon_data['Legendary'].astype(int)\n",
    "\n",
    "        if poke1 in pokemon_data['Name'].values and poke2 in pokemon_data['Name'].values and poke1 != poke2:\n",
    "            pokemon1 = pokemon_data[pokemon_data['Name'] == poke1].iloc[0]\n",
    "            pokemon2 = pokemon_data[pokemon_data['Name'] == poke2].iloc[0]\n",
    "\n",
    "            # Drop the 'Name' column before prediction, then combine the two\n",
    "            inputs = pd.concat([pokemon1.drop('Name'), pokemon2.drop('Name')]).values.reshape(1, -1)\n",
    "\n",
    "            prediction = loaded_model.predict(inputs)\n",
    "\n",
    "            info = ''\n",
    "\n",
    "            if (prediction == 0):\n",
    "                info = poke1\n",
    "            else:\n",
    "                info = poke2\n",
    "        \n",
    "            final_info = \"The winner is {}\".format(info)\n",
    "            return final_info\n",
    "\n",
    "        \n",
    "        else:\n",
    "            final_info = 'These Pokemon are not in the dataset. Please check your spelling and check that the first letter is capitalized.'\n",
    "            return final_info\n",
    "    except Exception as e:\n",
    "        return f\"An error occurred: {str(e)}\"\n",
    "\n",
    "#Test\n",
    "print(make_prediction('Pikachu', 'Charmander'))"
   ]
  },
  {
   "cell_type": "code",
   "execution_count": null,
   "id": "c9a10783",
   "metadata": {},
   "outputs": [
    {
     "name": "stdout",
     "output_type": "stream",
     "text": [
      "IMPORTANT: You are using gradio version 3.24.1, however version 4.44.1 is available, please upgrade.\n",
      "--------\n",
      "Running on local URL:  http://127.0.0.1:7864\n",
      "\n",
      "To create a public link, set `share=True` in `launch()`.\n",
      "Keyboard interruption in main thread... closing server.\n"
     ]
    },
    {
     "data": {
      "text/plain": []
     },
     "execution_count": 20,
     "metadata": {},
     "output_type": "execute_result"
    }
   ],
   "source": [
    "import gradio as gr\n",
    "\n",
    "headline = \"Pokemon Combat Prediction\"\n",
    "\n",
    "iface = gr.Interface(fn=make_prediction,inputs = [\"text\", \"text\"], outputs=\"text\", title=headline)\n",
    "iface.launch(debug=True, share=True, inline=False)"
   ]
  }
 ],
 "metadata": {
  "kernelspec": {
   "display_name": "ecs171",
   "language": "python",
   "name": "python3"
  },
  "language_info": {
   "codemirror_mode": {
    "name": "ipython",
    "version": 3
   },
   "file_extension": ".py",
   "mimetype": "text/x-python",
   "name": "python",
   "nbconvert_exporter": "python",
   "pygments_lexer": "ipython3",
   "version": "3.10.13"
  }
 },
 "nbformat": 4,
 "nbformat_minor": 5
}
