{
  "nbformat": 4,
  "nbformat_minor": 0,
  "metadata": {
    "colab": {
      "provenance": []
    },
    "kernelspec": {
      "name": "python3",
      "display_name": "Python 3"
    },
    "language_info": {
      "name": "python"
    }
  },
  "cells": [
    {
      "cell_type": "code",
      "execution_count": 2,
      "metadata": {
        "colab": {
          "base_uri": "https://localhost:8080/"
        },
        "id": "wU_x0FPo_i9p",
        "outputId": "597a4753-d343-4379-bec9-fb819111abef"
      },
      "outputs": [
        {
          "output_type": "stream",
          "name": "stdout",
          "text": [
            "Path to dataset files: /kaggle/input/pokemon-dataset-with-team-combat\n"
          ]
        }
      ],
      "source": [
        "import kagglehub\n",
        "\n",
        "# Download latest version\n",
        "path = kagglehub.dataset_download(\"tuannguyenvananh/pokemon-dataset-with-team-combat\")\n",
        "\n",
        "print(\"Path to dataset files:\", path)"
      ]
    },
    {
      "cell_type": "code",
      "source": [
        "import pandas as pd\n",
        "import matplotlib.pyplot as plt\n",
        "import numpy as np\n",
        "import seaborn as sns\n",
        "\n",
        "pokemon = pd.read_csv(path + \"/pokemon.csv\", encoding='latin1')\n",
        "combat = pd.read_csv(path + \"/combats.csv\", encoding='latin1')\n",
        "\n",
        "#Normalize numeric values\n",
        "names = ['HP', 'Attack', 'Defense', 'Sp. Atk', 'Sp. Def', 'Speed']\n",
        "for col in names:\n",
        "    pokemon[col] = (pokemon[col] - pokemon[col].min()) / (pokemon[col].max() - pokemon[col].min())\n",
        "\n",
        "pokemon = pd.get_dummies(pokemon, columns=['Type 1', ], dtype=int)\n",
        "pokemon = pd.get_dummies(pokemon, columns=['Type 2', ], dtype=int)\n",
        "\n",
        "#Dropping Features and encoding True/False\n",
        "pokemon = pokemon.drop('Name', axis=1)\n",
        "# pokemon = pokemon.drop('Type 2', axis=1) #Dropping type2 to reduce dimensionality of the data\n",
        "pokemon = pokemon.drop('Generation', axis=1)\n",
        "pokemon['Legendary'] = pokemon['Legendary'].astype(int)\n",
        "y = combat['Winner']\n",
        "combat=combat.drop('Winner', axis=1)"
      ],
      "metadata": {
        "id": "eGPwSh5DyxbX"
      },
      "execution_count": 3,
      "outputs": []
    },
    {
      "cell_type": "code",
      "source": [
        "# Encode y as true or false. True if the first pokemon wins and false if the second pokemon wins.\n",
        "for i in range(len(combat)):\n",
        "    if y[i] == combat['First_pokemon'][i]:\n",
        "        y[i]=1\n",
        "    else:\n",
        "        y[i]=0"
      ],
      "metadata": {
        "id": "F-WCRyOZy428"
      },
      "execution_count": 4,
      "outputs": []
    },
    {
      "cell_type": "code",
      "source": [
        "cols = pokemon.drop('#', axis=1).columns\n",
        "merged1 = combat.merge(pokemon, left_on='First_pokemon', right_on='#', how='left')\n",
        "merged1 = merged1.drop(columns=['#'])\n",
        "merged1.columns = ['First_pokemon', 'Second_pokemon'] + [col + '1' for col in cols]\n",
        "\n",
        "# Step 3: Merge with pokemon data for Second_pokemon\n",
        "merged2 = merged1.merge(pokemon, left_on='Second_pokemon', right_on='#', how='left')\n",
        "merged2 = merged2.drop(columns=['#', 'First_pokemon', 'Second_pokemon'])\n",
        "merged2.columns = merged1.columns.tolist()[2:] + [col + '2' for col in cols]\n",
        "\n",
        "# Final DataFrame\n",
        "df = merged2\n",
        "# df.head()"
      ],
      "metadata": {
        "id": "_3G8bdGvy8Hg"
      },
      "execution_count": 5,
      "outputs": []
    },
    {
      "cell_type": "code",
      "source": [
        "from sklearn.neural_network import MLPRegressor\n",
        "from sklearn.model_selection import train_test_split\n",
        "\n",
        "X_train, X_test, y_train, y_test = train_test_split(df, y, test_size=0.2, random_state=42)"
      ],
      "metadata": {
        "id": "UyNMeAzuAaGe"
      },
      "execution_count": 6,
      "outputs": []
    },
    {
      "cell_type": "code",
      "source": [
        "model = MLPRegressor(random_state=42, max_iter=10000, solver='sgd')\n",
        "model.fit(X_train, y_train)\n",
        "\n",
        "model.predict(X_test)\n",
        "\n",
        "model1_accuracy = model.score(X_test, y_test)\n",
        "print(f\"Initial accuracy using 'sgd': {model1_accuracy}\")\n",
        "\n",
        "model2 = MLPRegressor(random_state=42, max_iter=10000, solver='adam')\n",
        "model2.fit(X_train, y_train)\n",
        "\n",
        "model2.predict(X_test)\n",
        "\n",
        "model2_accuracy = model2.score(X_test, y_test)\n",
        "print(f\"Initial accuracy using 'adam': {model2_accuracy}\")\n"
      ],
      "metadata": {
        "colab": {
          "base_uri": "https://localhost:8080/"
        },
        "id": "Q7cKaMf62An1",
        "outputId": "b3cdb22f-6da0-4b81-8b54-caa2fff0da59"
      },
      "execution_count": 6,
      "outputs": [
        {
          "output_type": "stream",
          "name": "stdout",
          "text": [
            "Initial accuracy using 'sgd': 0.4920480560709516\n",
            "Initial accuracy using 'adam': 0.8444461039292592\n"
          ]
        }
      ]
    },
    {
      "cell_type": "markdown",
      "source": [
        "For large datasets, the \"solver\" used could either be 'sgd' (Stochastic Gradient Descent) or 'adam' (a Stochastic Gradient-based optimizer proposed by Kingma, Diederik, and Jimmy Ba). 'adam' seems to both converge faster and achieve higher accuracy, so we will use 'adam' for hyperparameter tuning.\n",
        "\n",
        "This matches sklearn's recommendations for model tuning: https://scikit-learn.org/stable/auto_examples/neural_networks/plot_mlp_training_curves.html#sphx-glr-auto-examples-neural-networks-plot-mlp-training-curves-py"
      ],
      "metadata": {
        "id": "RNqagvWJ2ILy"
      }
    },
    {
      "cell_type": "code",
      "source": [
        "from sklearn.model_selection import GridSearchCV\n",
        "param_grid = {\n",
        "    'hidden_layer_sizes': [(50,), (100,), (150,)],\n",
        "    'learning_rate_init': [0.001, 0.005],\n",
        "    'momentum': [0.5, 0.9],\n",
        "    'max_iter': [1000, 5000]\n",
        "}\n",
        "\n",
        "# perform grid search with cross-validation\n",
        "grid_search = GridSearchCV(MLPRegressor(solver='adam'), param_grid, cv=2, verbose=3)\n",
        "grid_result = grid_search.fit(X_train, y_train)\n",
        "\n",
        "# print results\n",
        "print(\"Best: %f using %s\" % (grid_result.best_score_, grid_result.best_params_))\n",
        "means = grid_result.cv_results_['mean_test_score']\n",
        "stds = grid_result.cv_results_['std_test_score']\n",
        "params = grid_result.cv_results_['params']\n",
        "for mean, std, param in zip(means, stds, params):\n",
        "    print(\"%f (%f) with: %r\" % (mean, std, param))"
      ],
      "metadata": {
        "colab": {
          "base_uri": "https://localhost:8080/"
        },
        "id": "YqYU8yWi4NV2",
        "outputId": "3f594fe3-525f-4072-b003-1a0e44b92265"
      },
      "execution_count": 7,
      "outputs": [
        {
          "output_type": "stream",
          "name": "stdout",
          "text": [
            "Fitting 2 folds for each of 24 candidates, totalling 48 fits\n",
            "[CV 1/2] END hidden_layer_sizes=(50,), learning_rate_init=0.001, max_iter=1000, momentum=0.5;, score=0.789 total time=  15.7s\n",
            "[CV 2/2] END hidden_layer_sizes=(50,), learning_rate_init=0.001, max_iter=1000, momentum=0.5;, score=0.791 total time=  19.3s\n",
            "[CV 1/2] END hidden_layer_sizes=(50,), learning_rate_init=0.001, max_iter=1000, momentum=0.9;, score=0.771 total time=  14.2s\n",
            "[CV 2/2] END hidden_layer_sizes=(50,), learning_rate_init=0.001, max_iter=1000, momentum=0.9;, score=0.795 total time=  17.2s\n",
            "[CV 1/2] END hidden_layer_sizes=(50,), learning_rate_init=0.001, max_iter=5000, momentum=0.5;, score=0.802 total time=  17.3s\n",
            "[CV 2/2] END hidden_layer_sizes=(50,), learning_rate_init=0.001, max_iter=5000, momentum=0.5;, score=0.796 total time=  14.9s\n",
            "[CV 1/2] END hidden_layer_sizes=(50,), learning_rate_init=0.001, max_iter=5000, momentum=0.9;, score=0.790 total time=  14.7s\n",
            "[CV 2/2] END hidden_layer_sizes=(50,), learning_rate_init=0.001, max_iter=5000, momentum=0.9;, score=0.804 total time=  15.5s\n",
            "[CV 1/2] END hidden_layer_sizes=(50,), learning_rate_init=0.005, max_iter=1000, momentum=0.5;, score=0.791 total time=   7.0s\n",
            "[CV 2/2] END hidden_layer_sizes=(50,), learning_rate_init=0.005, max_iter=1000, momentum=0.5;, score=0.810 total time=  10.7s\n",
            "[CV 1/2] END hidden_layer_sizes=(50,), learning_rate_init=0.005, max_iter=1000, momentum=0.9;, score=0.807 total time=   8.2s\n",
            "[CV 2/2] END hidden_layer_sizes=(50,), learning_rate_init=0.005, max_iter=1000, momentum=0.9;, score=0.804 total time=   6.1s\n",
            "[CV 1/2] END hidden_layer_sizes=(50,), learning_rate_init=0.005, max_iter=5000, momentum=0.5;, score=0.805 total time=   8.4s\n",
            "[CV 2/2] END hidden_layer_sizes=(50,), learning_rate_init=0.005, max_iter=5000, momentum=0.5;, score=0.808 total time=   9.1s\n",
            "[CV 1/2] END hidden_layer_sizes=(50,), learning_rate_init=0.005, max_iter=5000, momentum=0.9;, score=0.809 total time=  11.5s\n",
            "[CV 2/2] END hidden_layer_sizes=(50,), learning_rate_init=0.005, max_iter=5000, momentum=0.9;, score=0.815 total time=  11.9s\n",
            "[CV 1/2] END hidden_layer_sizes=(100,), learning_rate_init=0.001, max_iter=1000, momentum=0.5;, score=0.776 total time=  22.0s\n",
            "[CV 2/2] END hidden_layer_sizes=(100,), learning_rate_init=0.001, max_iter=1000, momentum=0.5;, score=0.769 total time=  17.7s\n",
            "[CV 1/2] END hidden_layer_sizes=(100,), learning_rate_init=0.001, max_iter=1000, momentum=0.9;, score=0.782 total time=  18.4s\n",
            "[CV 2/2] END hidden_layer_sizes=(100,), learning_rate_init=0.001, max_iter=1000, momentum=0.9;, score=0.787 total time=  15.9s\n",
            "[CV 1/2] END hidden_layer_sizes=(100,), learning_rate_init=0.001, max_iter=5000, momentum=0.5;, score=0.779 total time=  22.7s\n",
            "[CV 2/2] END hidden_layer_sizes=(100,), learning_rate_init=0.001, max_iter=5000, momentum=0.5;, score=0.765 total time=  20.3s\n",
            "[CV 1/2] END hidden_layer_sizes=(100,), learning_rate_init=0.001, max_iter=5000, momentum=0.9;, score=0.797 total time=  24.1s\n",
            "[CV 2/2] END hidden_layer_sizes=(100,), learning_rate_init=0.001, max_iter=5000, momentum=0.9;, score=0.758 total time=  15.9s\n",
            "[CV 1/2] END hidden_layer_sizes=(100,), learning_rate_init=0.005, max_iter=1000, momentum=0.5;, score=0.792 total time=  11.6s\n",
            "[CV 2/2] END hidden_layer_sizes=(100,), learning_rate_init=0.005, max_iter=1000, momentum=0.5;, score=0.795 total time=  15.4s\n",
            "[CV 1/2] END hidden_layer_sizes=(100,), learning_rate_init=0.005, max_iter=1000, momentum=0.9;, score=0.794 total time=  12.2s\n",
            "[CV 2/2] END hidden_layer_sizes=(100,), learning_rate_init=0.005, max_iter=1000, momentum=0.9;, score=0.790 total time=  10.7s\n",
            "[CV 1/2] END hidden_layer_sizes=(100,), learning_rate_init=0.005, max_iter=5000, momentum=0.5;, score=0.794 total time=  13.0s\n",
            "[CV 2/2] END hidden_layer_sizes=(100,), learning_rate_init=0.005, max_iter=5000, momentum=0.5;, score=0.786 total time=   9.4s\n",
            "[CV 1/2] END hidden_layer_sizes=(100,), learning_rate_init=0.005, max_iter=5000, momentum=0.9;, score=0.789 total time=  10.3s\n",
            "[CV 2/2] END hidden_layer_sizes=(100,), learning_rate_init=0.005, max_iter=5000, momentum=0.9;, score=0.782 total time=  10.9s\n",
            "[CV 1/2] END hidden_layer_sizes=(150,), learning_rate_init=0.001, max_iter=1000, momentum=0.5;, score=0.780 total time=  29.4s\n",
            "[CV 2/2] END hidden_layer_sizes=(150,), learning_rate_init=0.001, max_iter=1000, momentum=0.5;, score=0.750 total time=  25.0s\n",
            "[CV 1/2] END hidden_layer_sizes=(150,), learning_rate_init=0.001, max_iter=1000, momentum=0.9;, score=0.749 total time=  22.3s\n",
            "[CV 2/2] END hidden_layer_sizes=(150,), learning_rate_init=0.001, max_iter=1000, momentum=0.9;, score=0.771 total time=  21.1s\n",
            "[CV 1/2] END hidden_layer_sizes=(150,), learning_rate_init=0.001, max_iter=5000, momentum=0.5;, score=0.775 total time=  17.6s\n",
            "[CV 2/2] END hidden_layer_sizes=(150,), learning_rate_init=0.001, max_iter=5000, momentum=0.5;, score=0.769 total time=  22.3s\n",
            "[CV 1/2] END hidden_layer_sizes=(150,), learning_rate_init=0.001, max_iter=5000, momentum=0.9;, score=0.763 total time=  24.0s\n",
            "[CV 2/2] END hidden_layer_sizes=(150,), learning_rate_init=0.001, max_iter=5000, momentum=0.9;, score=0.769 total time=  21.8s\n",
            "[CV 1/2] END hidden_layer_sizes=(150,), learning_rate_init=0.005, max_iter=1000, momentum=0.5;, score=0.769 total time=  13.5s\n",
            "[CV 2/2] END hidden_layer_sizes=(150,), learning_rate_init=0.005, max_iter=1000, momentum=0.5;, score=0.772 total time=  18.4s\n",
            "[CV 1/2] END hidden_layer_sizes=(150,), learning_rate_init=0.005, max_iter=1000, momentum=0.9;, score=0.769 total time=  12.0s\n",
            "[CV 2/2] END hidden_layer_sizes=(150,), learning_rate_init=0.005, max_iter=1000, momentum=0.9;, score=0.779 total time=  16.1s\n",
            "[CV 1/2] END hidden_layer_sizes=(150,), learning_rate_init=0.005, max_iter=5000, momentum=0.5;, score=0.784 total time=  20.6s\n",
            "[CV 2/2] END hidden_layer_sizes=(150,), learning_rate_init=0.005, max_iter=5000, momentum=0.5;, score=0.784 total time=  15.7s\n",
            "[CV 1/2] END hidden_layer_sizes=(150,), learning_rate_init=0.005, max_iter=5000, momentum=0.9;, score=0.778 total time=  12.8s\n",
            "[CV 2/2] END hidden_layer_sizes=(150,), learning_rate_init=0.005, max_iter=5000, momentum=0.9;, score=0.759 total time=  16.9s\n",
            "Best: 0.812239 using {'hidden_layer_sizes': (50,), 'learning_rate_init': 0.005, 'max_iter': 5000, 'momentum': 0.9}\n",
            "0.789811 (0.000961) with: {'hidden_layer_sizes': (50,), 'learning_rate_init': 0.001, 'max_iter': 1000, 'momentum': 0.5}\n",
            "0.783039 (0.011803) with: {'hidden_layer_sizes': (50,), 'learning_rate_init': 0.001, 'max_iter': 1000, 'momentum': 0.9}\n",
            "0.798723 (0.003184) with: {'hidden_layer_sizes': (50,), 'learning_rate_init': 0.001, 'max_iter': 5000, 'momentum': 0.5}\n",
            "0.796928 (0.007130) with: {'hidden_layer_sizes': (50,), 'learning_rate_init': 0.001, 'max_iter': 5000, 'momentum': 0.9}\n",
            "0.800504 (0.009359) with: {'hidden_layer_sizes': (50,), 'learning_rate_init': 0.005, 'max_iter': 1000, 'momentum': 0.5}\n",
            "0.805168 (0.001440) with: {'hidden_layer_sizes': (50,), 'learning_rate_init': 0.005, 'max_iter': 1000, 'momentum': 0.9}\n",
            "0.806808 (0.001425) with: {'hidden_layer_sizes': (50,), 'learning_rate_init': 0.005, 'max_iter': 5000, 'momentum': 0.5}\n",
            "0.812239 (0.002867) with: {'hidden_layer_sizes': (50,), 'learning_rate_init': 0.005, 'max_iter': 5000, 'momentum': 0.9}\n",
            "0.772625 (0.003231) with: {'hidden_layer_sizes': (100,), 'learning_rate_init': 0.001, 'max_iter': 1000, 'momentum': 0.5}\n",
            "0.784506 (0.002062) with: {'hidden_layer_sizes': (100,), 'learning_rate_init': 0.001, 'max_iter': 1000, 'momentum': 0.9}\n",
            "0.771751 (0.006821) with: {'hidden_layer_sizes': (100,), 'learning_rate_init': 0.001, 'max_iter': 5000, 'momentum': 0.5}\n",
            "0.777590 (0.019198) with: {'hidden_layer_sizes': (100,), 'learning_rate_init': 0.001, 'max_iter': 5000, 'momentum': 0.9}\n",
            "0.793128 (0.001611) with: {'hidden_layer_sizes': (100,), 'learning_rate_init': 0.005, 'max_iter': 1000, 'momentum': 0.5}\n",
            "0.792243 (0.002102) with: {'hidden_layer_sizes': (100,), 'learning_rate_init': 0.005, 'max_iter': 1000, 'momentum': 0.9}\n",
            "0.790331 (0.004004) with: {'hidden_layer_sizes': (100,), 'learning_rate_init': 0.005, 'max_iter': 5000, 'momentum': 0.5}\n",
            "0.785607 (0.003799) with: {'hidden_layer_sizes': (100,), 'learning_rate_init': 0.005, 'max_iter': 5000, 'momentum': 0.9}\n",
            "0.764853 (0.015073) with: {'hidden_layer_sizes': (150,), 'learning_rate_init': 0.001, 'max_iter': 1000, 'momentum': 0.5}\n",
            "0.760080 (0.010720) with: {'hidden_layer_sizes': (150,), 'learning_rate_init': 0.001, 'max_iter': 1000, 'momentum': 0.9}\n",
            "0.771926 (0.002950) with: {'hidden_layer_sizes': (150,), 'learning_rate_init': 0.001, 'max_iter': 5000, 'momentum': 0.5}\n",
            "0.765964 (0.003080) with: {'hidden_layer_sizes': (150,), 'learning_rate_init': 0.001, 'max_iter': 5000, 'momentum': 0.9}\n",
            "0.770017 (0.001504) with: {'hidden_layer_sizes': (150,), 'learning_rate_init': 0.005, 'max_iter': 1000, 'momentum': 0.5}\n",
            "0.773898 (0.005203) with: {'hidden_layer_sizes': (150,), 'learning_rate_init': 0.005, 'max_iter': 1000, 'momentum': 0.9}\n",
            "0.784034 (0.000463) with: {'hidden_layer_sizes': (150,), 'learning_rate_init': 0.005, 'max_iter': 5000, 'momentum': 0.5}\n",
            "0.768692 (0.009508) with: {'hidden_layer_sizes': (150,), 'learning_rate_init': 0.005, 'max_iter': 5000, 'momentum': 0.9}\n"
          ]
        }
      ]
    },
    {
      "cell_type": "markdown",
      "source": [
        "The hyperparameter tuning revealed that lower layer amounts, higher learning rates, higher momentum, and higher amounts of max iterations led to the greatest model accuracy at 0.812239."
      ],
      "metadata": {
        "id": "mDFTPfdQDz4r"
      }
    },
    {
      "cell_type": "code",
      "source": [
        "from sklearn.metrics import accuracy_score, r2_score, mean_squared_error, average_precision_score\n",
        "\n",
        "best_model = grid_result.best_estimator_\n",
        "best_model_pred = best_model.predict(X_test)\n",
        "\n",
        "print(f\"Best Model's R2 score: {r2_score(y_test, best_model_pred)}\")\n",
        "print(f\"Best Model's MSE score: {mean_squared_error(y_test, best_model_pred)}\")\n",
        "print(f\"Best Model's Average Precision: {average_precision_score(y_test, best_model_pred)}\")"
      ],
      "metadata": {
        "colab": {
          "base_uri": "https://localhost:8080/"
        },
        "id": "AUcpmGejFnb4",
        "outputId": "1c0f2fc2-dbbb-4dbb-ba03-709224c246ae"
      },
      "execution_count": 18,
      "outputs": [
        {
          "output_type": "stream",
          "name": "stdout",
          "text": [
            "Best Model's R2 score: 0.8409056947161535\n",
            "Best Model's MSE score: 0.039676514476251014\n",
            "Best Model's Average Precision: 0.9896568644064874\n"
          ]
        }
      ]
    },
    {
      "cell_type": "markdown",
      "source": [
        "The Grid Search's best model performs really well when it comes to multiple evaluatory metrics. These hyperparameters likely suit an MLP Regressor the best when training on this data."
      ],
      "metadata": {
        "id": "sK25cRn-IOsK"
      }
    }
  ]
}