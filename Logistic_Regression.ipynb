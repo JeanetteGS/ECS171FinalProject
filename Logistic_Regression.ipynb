{
  "cells": [
    {
      "cell_type": "code",
      "execution_count": 2,
      "metadata": {
        "id": "wmgZduRMamq5"
      },
      "outputs": [],
      "source": [
        "import pandas as pd\n",
        "\n",
        "# Make the filenames are coherent to the uploaded ones\n",
        "pokemon = pd.read_csv('pokemon.csv')\n",
        "combats = pd.read_csv('combats.csv')"
      ]
    },
    {
      "cell_type": "code",
      "execution_count": 3,
      "metadata": {
        "colab": {
          "base_uri": "https://localhost:8080/"
        },
        "id": "r_EqgRP3i3nY",
        "outputId": "308a88aa-a0d6-429c-d227-02d41bf2e079"
      },
      "outputs": [
        {
          "name": "stdout",
          "output_type": "stream",
          "text": [
            "['#', 'Name', 'Type 1', 'Type 2', 'HP', 'Attack', 'Defense', 'Sp. Atk', 'Sp. Def', 'Speed', 'Generation', 'Legendary']\n"
          ]
        }
      ],
      "source": [
        "# Double-check the names of the columns\n",
        "print(pokemon.columns.tolist())"
      ]
    },
    {
      "cell_type": "code",
      "execution_count": 4,
      "metadata": {
        "id": "jMbHn7tvaSR8"
      },
      "outputs": [],
      "source": [
        "# Normalize the columns\n",
        "pokemon.columns = (\n",
        "    pokemon.columns\n",
        "    .str.strip()\n",
        "    .str.lower()\n",
        "    .str.replace('.', '', regex=False)\n",
        "    .str.replace(' ', '_')\n",
        ")\n",
        "\n",
        "# Make sure legendary is integer\n",
        "pokemon['legendary'] = pokemon['legendary'].astype(int)\n",
        "\n",
        "# Select the features\n",
        "stats = ['hp', 'attack', 'defense', 'sp_atk', 'sp_def', 'speed', 'legendary']\n",
        "pokemon = pokemon[['#', 'name'] + stats]\n"
      ]
    },
    {
      "cell_type": "code",
      "execution_count": 5,
      "metadata": {
        "id": "_GWdExMubBjD"
      },
      "outputs": [],
      "source": [
        "# Create a copy of the combat dataset\n",
        "combat_df = combats.copy()\n",
        "combat_df.columns = ['first_pokemon', 'second_pokemon', 'winner']\n",
        "\n",
        "# Define a function to extract the stats given an id\n",
        "def get_stats(poke_id):\n",
        "    return pokemon[pokemon['#'] == poke_id][stats].values[0]\n",
        "\n",
        "# X: features; Y: label\n",
        "X = []\n",
        "y = []\n",
        "\n",
        "# Iterate over each combat, define feature difference as X and result as Y\n",
        "for _, row in combat_df.iterrows():\n",
        "    p1_stats = get_stats(row['first_pokemon'])\n",
        "    p2_stats = get_stats(row['second_pokemon'])\n",
        "\n",
        "    feature_diff = p1_stats - p2_stats\n",
        "    X.append(feature_diff)\n",
        "\n",
        "    winner = 1 if row['winner'] == row['first_pokemon'] else 0\n",
        "    y.append(winner)\n",
        "\n"
      ]
    },
    {
      "cell_type": "code",
      "execution_count": 6,
      "metadata": {
        "id": "L6FpWiFFMz-T"
      },
      "outputs": [],
      "source": [
        "import numpy as np\n",
        "from sklearn.preprocessing import StandardScaler\n",
        "from sklearn.model_selection import train_test_split\n",
        "from sklearn.linear_model import LogisticRegression\n",
        "from sklearn.metrics import accuracy_score, f1_score, classification_report, confusion_matrix"
      ]
    },
    {
      "cell_type": "code",
      "execution_count": 14,
      "metadata": {
        "colab": {
          "base_uri": "https://localhost:8080/"
        },
        "id": "sn-NHsldj-n3",
        "outputId": "447fb158-48c5-414d-a848-bfb8983fb89d"
      },
      "outputs": [
        {
          "name": "stdout",
          "output_type": "stream",
          "text": [
            "Accuracy: 0.8903\n",
            "F1 Score: 0.8833351058172924\n",
            "Confusion Matrix:\n",
            " [[4750  497]\n",
            " [ 600 4153]]\n",
            "Classification Report:\n",
            "               precision    recall  f1-score   support\n",
            "\n",
            "           0       0.89      0.91      0.90      5247\n",
            "           1       0.89      0.87      0.88      4753\n",
            "\n",
            "    accuracy                           0.89     10000\n",
            "   macro avg       0.89      0.89      0.89     10000\n",
            "weighted avg       0.89      0.89      0.89     10000\n",
            "\n"
          ]
        }
      ],
      "source": [
        "X = np.array(X)\n",
        "y = np.array(y)\n",
        "\n",
        "# Normalize\n",
        "scaler = StandardScaler()\n",
        "X_scaled = scaler.fit_transform(X)\n",
        "\n",
        "# Divide train/test splits\n",
        "X_train, X_test, y_train, y_test = train_test_split(X_scaled, y, test_size=0.2, random_state=42)\n",
        "\n",
        "# Train Logistic Regression\n",
        "model = LogisticRegression()\n",
        "model.fit(X_train, y_train)\n",
        "\n",
        "# Prediction\n",
        "y_pred = model.predict(X_test)\n",
        "\n",
        "# Evals\n",
        "model_accuracy = accuracy_score(y_test, y_pred)\n",
        "model_cm = confusion_matrix(y_test, y_pred)\n",
        "model_report = classification_report(y_test, y_pred, output_dict=True)\n",
        "\n",
        "print(\"Accuracy:\", model_accuracy)\n",
        "print(\"F1 Score:\", f1_score(y_test, y_pred))\n",
        "print(\"Confusion Matrix:\\n\", model_cm)\n",
        "print(\"Classification Report:\\n\", classification_report(y_test, y_pred))\n"
      ]
    },
    {
      "cell_type": "code",
      "execution_count": 8,
      "metadata": {
        "colab": {
          "base_uri": "https://localhost:8080/"
        },
        "id": "uq9NJ2HHNJdN",
        "outputId": "cf069372-2027-4092-a083-bdee3a6893e7"
      },
      "outputs": [
        {
          "name": "stdout",
          "output_type": "stream",
          "text": [
            "Log Loss (Negative Log-Likelihood): 0.3651426789745947\n"
          ]
        }
      ],
      "source": [
        "from sklearn.metrics import log_loss\n",
        "probs = model.predict_proba(X_test)\n",
        "print(\"Log Loss (Negative Log-Likelihood):\", log_loss(y_test, probs))"
      ]
    },
    {
      "cell_type": "code",
      "execution_count": 9,
      "metadata": {
        "colab": {
          "base_uri": "https://localhost:8080/"
        },
        "id": "HJnp43j0kJ3X",
        "outputId": "bf1f9980-9bbf-429a-dc68-b5583e420c14"
      },
      "outputs": [
        {
          "name": "stdout",
          "output_type": "stream",
          "text": [
            "hp: 0.0841\n",
            "attack: 0.4418\n",
            "defense: 0.0711\n",
            "sp_atk: -0.0367\n",
            "sp_def: 0.0533\n",
            "speed: 2.6503\n",
            "legendary: -0.0530\n"
          ]
        }
      ],
      "source": [
        "for stat, coef in zip(stats, model.coef_[0]):\n",
        "    print(f\"{stat}: {coef:.4f}\")"
      ]
    },
    {
      "cell_type": "code",
      "execution_count": null,
      "metadata": {
        "colab": {
          "base_uri": "https://localhost:8080/"
        },
        "id": "KomfBw3ZkrV7",
        "outputId": "f4db6b1f-3569-4e23-df18-3cdff1dbac26"
      },
      "outputs": [
        {
          "name": "stdout",
          "output_type": "stream",
          "text": [
            "Random Forest Results:\n",
            "Accuracy: 0.9504\n",
            "F1 Score: 0.9482254697286012\n",
            "Confusion Matrix:\n",
            " [[4962  285]\n",
            " [ 211 4542]]\n",
            "Classification Report:\n",
            "               precision    recall  f1-score   support\n",
            "\n",
            "           0       0.96      0.95      0.95      5247\n",
            "           1       0.94      0.96      0.95      4753\n",
            "\n",
            "    accuracy                           0.95     10000\n",
            "   macro avg       0.95      0.95      0.95     10000\n",
            "weighted avg       0.95      0.95      0.95     10000\n",
            "\n"
          ]
        }
      ],
      "source": [
        "from sklearn.ensemble import RandomForestClassifier\n",
        "\n",
        "# Create Random Forest Classifier\n",
        "rf_model = RandomForestClassifier(n_estimators=100, random_state=42)\n",
        "rf_model.fit(X_train, y_train)\n",
        "\n",
        "# Prediction\n",
        "rf_pred = rf_model.predict(X_test)\n",
        "\n",
        "# Evals\n",
        "from sklearn.metrics import accuracy_score, f1_score, classification_report, confusion_matrix\n",
        "\n",
        "print(\"Random Forest Results:\")\n",
        "print(\"Accuracy:\", accuracy_score(y_test, rf_pred))\n",
        "print(\"F1 Score:\", f1_score(y_test, rf_pred))\n",
        "print(\"Confusion Matrix:\\n\", confusion_matrix(y_test, rf_pred))\n",
        "print(\"Classification Report:\\n\", classification_report(y_test, rf_pred))\n",
        "\n"
      ]
    },
    {
      "cell_type": "code",
      "execution_count": 10,
      "metadata": {
        "colab": {
          "base_uri": "https://localhost:8080/",
          "height": 487
        },
        "id": "iFdJNUU-Nnju",
        "outputId": "f6d76a40-3083-4dcc-b07f-c255a73baf3c"
      },
      "outputs": [
        {
          "data": {
            "image/png": "[encoded data removed]",
            "text/plain": [
              "<Figure size 800x500 with 1 Axes>"
            ]
          },
          "metadata": {},
          "output_type": "display_data"
        }
      ],
      "source": [
        "import matplotlib.pyplot as plt\n",
        "\n",
        "feature_names = ['HP', 'Attack', 'Defense', 'Sp. Atk', 'Sp. Def', 'Speed', 'Legendary']\n",
        "weights = model.coef_[0]\n",
        "\n",
        "plt.figure(figsize=(8, 5))\n",
        "plt.barh(feature_names, weights)\n",
        "plt.xlabel(\"Weight\")\n",
        "plt.title(\"Logistic Regression Coefficients\")\n",
        "plt.axvline(0, color='gray', linestyle='--')\n",
        "plt.gca().invert_yaxis()\n",
        "plt.show()"
      ]
    },
    {
      "cell_type": "code",
      "execution_count": 11,
      "metadata": {
        "colab": {
          "base_uri": "https://localhost:8080/",
          "height": 410
        },
        "id": "qTNw-w9WNpm8",
        "outputId": "776398e0-5c0c-47c0-f4ac-f77fd69efa4b"
      },
      "outputs": [
        {
          "data": {
            "image/png": "[encoded data removed]",
            "text/plain": [
              "<Figure size 600x400 with 2 Axes>"
            ]
          },
          "metadata": {},
          "output_type": "display_data"
        }
      ],
      "source": [
        "import seaborn as sns\n",
        "from sklearn.metrics import confusion_matrix\n",
        "\n",
        "cm = confusion_matrix(y_test, y_pred)\n",
        "\n",
        "plt.figure(figsize=(6, 4))\n",
        "sns.heatmap(cm, annot=True, fmt='d', cmap='Blues')\n",
        "plt.title(\"Confusion Matrix\")\n",
        "plt.xlabel(\"Predicted\")\n",
        "plt.ylabel(\"Actual\")\n",
        "plt.show()\n"
      ]
    },
    {
      "cell_type": "code",
      "execution_count": 16,
      "metadata": {},
      "outputs": [
        {
          "data": {
            "text/plain": [
              "['log_reg_best_model.joblib']"
            ]
          },
          "execution_count": 16,
          "metadata": {},
          "output_type": "execute_result"
        }
      ],
      "source": [
        "best_model = model\n",
        "\n",
        "import joblib\n",
        "\n",
        "model_file_name = \"log_reg_best_model.joblib\"\n",
        "\n",
        "model_results = {\n",
        "    'model': best_model,\n",
        "    'accuracy': model_accuracy,\n",
        "    'classification_report': model_report,\n",
        "    'confusion_matrix': model_cm\n",
        "}\n",
        "\n",
        "joblib.dump(model_results, model_file_name)"
      ]
    },
    {
      "cell_type": "code",
      "execution_count": null,
      "metadata": {},
      "outputs": [],
      "source": []
    }
  ],
  "metadata": {
    "colab": {
      "provenance": []
    },
    "kernelspec": {
      "display_name": "ecs171_finalproject",
      "language": "python",
      "name": "python3"
    },
    "language_info": {
      "codemirror_mode": {
        "name": "ipython",
        "version": 3
      },
      "file_extension": ".py",
      "mimetype": "text/x-python",
      "name": "python",
      "nbconvert_exporter": "python",
      "pygments_lexer": "ipython3",
      "version": "3.13.2"
    }
  },
  "nbformat": 4,
  "nbformat_minor": 0
}
